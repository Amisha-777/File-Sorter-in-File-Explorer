{
 "cells": [
  {
   "cell_type": "markdown",
   "id": "d221a6e4-18b2-4c4d-8f61-6a950fb9fe19",
   "metadata": {},
   "source": [
    "# Automatic File Sorter in File Explorer"
   ]
  },
  {
   "cell_type": "code",
   "execution_count": 73,
   "id": "7a640fe9-1565-479f-9719-6dfc981662a2",
   "metadata": {},
   "outputs": [],
   "source": [
    "# Shutil allows us to do some high level operations in our file explorer\n",
    "\n",
    "import os, shutil"
   ]
  },
  {
   "cell_type": "code",
   "execution_count": 74,
   "id": "637a7aec-2a1b-4c08-8f59-ee05cbc64284",
   "metadata": {},
   "outputs": [],
   "source": [
    "# r helps to read the path as raw strings\n",
    "\n",
    "path = r\"C:\\Users\\hp\\Desktop\\Alex The Analyst\\Python\\Exercises\\File Sorting in File Explorer\\File Sorter\\\\\""
   ]
  },
  {
   "cell_type": "code",
   "execution_count": 75,
   "id": "0991b2e4-aa02-4d5d-93c3-8c1a8746c8c2",
   "metadata": {},
   "outputs": [
    {
     "data": {
      "text/plain": [
       "['BAM3004 - Week 2.pptx',\n",
       " 'BAM3004 - Week 3.pptx',\n",
       " 'HR Meet- 2022.pdf',\n",
       " 'Individual Case Study Assignment Outline .docx',\n",
       " 'JANBI.pdf',\n",
       " 'one-piece-chibi-roronoa-zoro-dark-green-desktop-wallpaper-cover.jpg',\n",
       " 'Passport and VISA.pdf',\n",
       " 'roronoa-tanjiro-friendly-meeting-desktop-wallpaper-cover.jpg',\n",
       " 'SecureBank Case Study.docx',\n",
       " 'zoro-one-piece-cute-warrior-desktop-wallpaper-cover.jpg']"
      ]
     },
     "execution_count": 75,
     "metadata": {},
     "output_type": "execute_result"
    }
   ],
   "source": [
    "# shows us all the file in the path\n",
    "\n",
    "file_name = os.listdir(path)\n",
    "file_name"
   ]
  },
  {
   "cell_type": "code",
   "execution_count": 76,
   "id": "49eb6709-0520-4c9a-8b8a-238610866ae3",
   "metadata": {},
   "outputs": [],
   "source": [
    "folder_names = ['pptx files', 'pdf files', 'image files', 'doc files']\n",
    "\n",
    "for loop in range(0,4):\n",
    "    if not os.path.exists(path + folder_names[loop]):    # Checks if the folder is in the path\n",
    "        os.makedirs(path + folder_names[loop])\n",
    "\n",
    "for file in file_name:\n",
    "    if \".pptx\" in file and not os.path.exists(path + \"pptx files\\\\\" + file):\n",
    "        shutil.move(path + file, path + \"pptx files\\\\\" + file)    # to move the file\n",
    "    elif \".pdf\" in file and not os.path.exists(path + \"pdf files\\\\\" + file):\n",
    "        shutil.move(path + file, path + \"pdf files\\\\\" + file)    \n",
    "    elif \".jpg\" in file and not os.path.exists(path + \"image files\\\\\" + file):\n",
    "        shutil.move(path + file, path + \"image files\\\\\" + file)    \n",
    "    elif \".docx\" in file and not os.path.exists(path + \"doc files\\\\\" + file):\n",
    "        shutil.move(path + file, path + \"doc files\\\\\" + file)\n",
    "    else:\n",
    "        print(\"There are files in this path that were not moved!\")"
   ]
  }
 ],
 "metadata": {
  "kernelspec": {
   "display_name": "Python 3 (ipykernel)",
   "language": "python",
   "name": "python3"
  },
  "language_info": {
   "codemirror_mode": {
    "name": "ipython",
    "version": 3
   },
   "file_extension": ".py",
   "mimetype": "text/x-python",
   "name": "python",
   "nbconvert_exporter": "python",
   "pygments_lexer": "ipython3",
   "version": "3.12.1"
  }
 },
 "nbformat": 4,
 "nbformat_minor": 5
}
